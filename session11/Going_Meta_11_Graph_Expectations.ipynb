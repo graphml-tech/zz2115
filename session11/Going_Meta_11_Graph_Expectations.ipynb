{
  "nbformat": 4,
  "nbformat_minor": 0,
  "metadata": {
    "colab": {
      "provenance": [],
      "include_colab_link": true
    },
    "kernelspec": {
      "name": "python3",
      "display_name": "Python 3"
    },
    "language_info": {
      "name": "python"
    }
  },
  "cells": [
    {
      "cell_type": "markdown",
      "metadata": {
        "id": "view-in-github",
        "colab_type": "text"
      },
      "source": [
        "<a href=\"https://colab.research.google.com/github/chihpoc/chihpoc/blob/main/session11/Going_Meta_11_Graph_Expectations.ipynb\" target=\"_parent\"><img src=\"https://colab.research.google.com/assets/colab-badge.svg\" alt=\"Open In Colab\"/></a>"
      ]
    },
    {
      "cell_type": "code",
      "execution_count": null,
      "metadata": {
        "id": "ANbaUbg-vyf-",
        "colab": {
          "base_uri": "https://localhost:8080/"
        },
        "outputId": "cdb6789b-c968-44c6-a1ce-c54f5f1b5593"
      },
      "outputs": [
        {
          "output_type": "stream",
          "name": "stdout",
          "text": [
            "Looking in indexes: https://pypi.org/simple, https://us-python.pkg.dev/colab-wheels/public/simple/\n",
            "Requirement already satisfied: neo4j in /usr/local/lib/python3.8/dist-packages (5.2.1)\n",
            "Requirement already satisfied: pytz in /usr/local/lib/python3.8/dist-packages (from neo4j) (2022.6)\n"
          ]
        }
      ],
      "source": [
        "pip install neo4j "
      ]
    },
    {
      "cell_type": "code",
      "source": [
        "pip install rdflib"
      ],
      "metadata": {
        "id": "r_WNu2o82L_r"
      },
      "execution_count": null,
      "outputs": []
    },
    {
      "cell_type": "code",
      "source": [
        "pip install -i https://test.pypi.org/simple/ graphexpectations"
      ],
      "metadata": {
        "id": "jldr1oNyv8B4"
      },
      "execution_count": null,
      "outputs": []
    },
    {
      "cell_type": "markdown",
      "source": [
        "**STEP1: import the graphexpectations package**"
      ],
      "metadata": {
        "id": "C0jlH5C7r_Gi"
      }
    },
    {
      "cell_type": "code",
      "source": [
        "import graphexpectations as ge\n",
        "import pandas as pd"
      ],
      "metadata": {
        "id": "7Bhv93CSv-2V"
      },
      "execution_count": null,
      "outputs": []
    },
    {
      "cell_type": "markdown",
      "source": [
        "**STEP2: Create a set of graph expectations per category (label) or based on query**"
      ],
      "metadata": {
        "id": "dueIvP6UpLPE"
      }
    },
    {
      "cell_type": "code",
      "source": [
        "supplierExpectations = ge.Set(nodeType=\"Supplier\")\n",
        "supplierExpectations.expect_property_values_to_match_regex(property=\"country\", regex=\"^[A-Za-z]+$\", message=\"R001_INVALID_COUNTRY\")\n",
        "supplierExpectations.expect_number_of_incoming_relationship_to_be_between(relationship=\"supplied_by\",min=2,message=\"R002_LOW_PRODUCT_OFFERING\")\n",
        "\n",
        "productExpectations = ge.Set(\"Product\")\n",
        "productExpectations.expect_number_of_property_values_to_be_between(property=\"unitPrice\", min=1, max=1,message=\"R003_SINGLE_PRICE\")\n",
        "productExpectations.expect_property_values_to_be_between(property=\"unitPrice\", minInclusive=10, maxExclusive=500, message=\"R004_PRICE_LIMIT\")\n",
        "\n",
        "customerExpectations = ge.Set(\"Customer\")\n",
        "customerExpectations.expect_property_values_to_be_of_type(property=\"\")\n",
        "customerExpectations.expect_outgoing_relationship_to_connect_to_nodes_of_type(relationship=\"places\",targetType=\"Order\", message=\"R005_CUST_BAD_SCHEMA\")\n",
        "customerExpectations.expect_number_of_outgoing_relationship_to_be_between(relationship=\"places\",min=\"1\", message=\"R006_CUST_NO_ORDERS\")\n",
        "\n",
        "americanProducts = ge.Set(query=\" (focus:Product)-[:supplied_by]->(:Supplier { country: 'USA' }) \")\n",
        "americanProducts.expect_property_values_to_be_between(property=\"productID\", minExclusive=10,message=\"R007_US_PROD_ID\")"
      ],
      "metadata": {
        "id": "TIIQJ8jRxbxu"
      },
      "execution_count": null,
      "outputs": []
    },
    {
      "cell_type": "markdown",
      "source": [
        "**STEP3: Combine expectation sets in a suite**"
      ],
      "metadata": {
        "id": "IGPmYhq4pFKx"
      }
    },
    {
      "cell_type": "code",
      "source": [
        "s = ge.Suite(desc=\"suite of expectations for my Neo4j Northwind KG\")\n",
        "s.add_expectations([supplierExpectations, productExpectations, customerExpectations, americanProducts])"
      ],
      "metadata": {
        "id": "W54A2MKD0sfE"
      },
      "execution_count": null,
      "outputs": []
    },
    {
      "cell_type": "markdown",
      "source": [
        "Save expectations (as SHACL shapes) for version control, etc..."
      ],
      "metadata": {
        "id": "lw98VgAypWol"
      }
    },
    {
      "cell_type": "code",
      "source": [
        "print(s.serialise())"
      ],
      "metadata": {
        "id": "0RaGU0mOpfx2",
        "colab": {
          "base_uri": "https://localhost:8080/"
        },
        "outputId": "c0c3cae7-5de9-4669-f4d4-982460043f5a"
      },
      "execution_count": null,
      "outputs": [
        {
          "output_type": "stream",
          "name": "stdout",
          "text": [
            "@prefix ns1: <http://www.w3.org/ns/shacl#> .\n",
            "@prefix xsd: <http://www.w3.org/2001/XMLSchema#> .\n",
            "\n",
            "[] a ns1:NodeShape ;\n",
            "    ns1:property [ ns1:maxExclusive 500 ;\n",
            "            ns1:message \"R004_PRICE_LIMIT\" ;\n",
            "            ns1:minInclusive 10 ;\n",
            "            ns1:path <neo4j://graph.schema#unitPrice> ],\n",
            "        [ ns1:maxCount 1 ;\n",
            "            ns1:message \"R003_SINGLE_PRICE\" ;\n",
            "            ns1:minCount 1 ;\n",
            "            ns1:path <neo4j://graph.schema#unitPrice> ] ;\n",
            "    ns1:targetClass <neo4j://graph.schema#Product> .\n",
            "\n",
            "[] a ns1:NodeShape ;\n",
            "    ns1:property [ ns1:message \"R006_CUST_NO_ORDERS\" ;\n",
            "            ns1:minCount \"1\" ;\n",
            "            ns1:path <neo4j://graph.schema#places> ],\n",
            "        [ ns1:class <neo4j://graph.schema#Order> ;\n",
            "            ns1:message \"R005_CUST_BAD_SCHEMA\" ;\n",
            "            ns1:path <neo4j://graph.schema#places> ] ;\n",
            "    ns1:targetClass <neo4j://graph.schema#Customer> .\n",
            "\n",
            "[] a ns1:NodeShape ;\n",
            "    ns1:property [ ns1:message \"R007_US_PROD_ID\" ;\n",
            "            ns1:minExclusive 10 ;\n",
            "            ns1:path <neo4j://graph.schema#productID> ] ;\n",
            "    ns1:targetQuery \" (focus:Product)-[:supplied_by]->(:Supplier { country: 'USA' }) \" .\n",
            "\n",
            "[] a ns1:NodeShape ;\n",
            "    ns1:property [ ns1:message \"R002_LOW_PRODUCT_OFFERING\" ;\n",
            "            ns1:minCount 2 ;\n",
            "            ns1:path [ ns1:inversePath <neo4j://graph.schema#supplied_by> ] ],\n",
            "        [ ns1:message \"R001_INVALID_COUNTRY\" ;\n",
            "            ns1:path <neo4j://graph.schema#country> ;\n",
            "            ns1:pattern \"^[A-Za-z]+$\" ] ;\n",
            "    ns1:targetClass <neo4j://graph.schema#Supplier> .\n",
            "\n",
            "\n"
          ]
        }
      ]
    },
    {
      "cell_type": "markdown",
      "source": [
        "**STEP4: Bind suite to DB to create an execution context**"
      ],
      "metadata": {
        "id": "G6h6u72lqoWK"
      }
    },
    {
      "cell_type": "code",
      "source": [
        "context = s.bind_to_db(\"bolt://34.203.42.32:7687\",\"neo4j\",\"bears-cabinets-brake\")"
      ],
      "metadata": {
        "id": "uYdMD0F323IL",
        "colab": {
          "base_uri": "https://localhost:8080/"
        },
        "outputId": "9854c3a6-1a42-4b0c-f481-7c9296ebdc4e"
      },
      "execution_count": null,
      "outputs": [
        {
          "output_type": "stream",
          "name": "stdout",
          "text": [
            "context successfully bound to DB\n"
          ]
        }
      ]
    },
    {
      "cell_type": "markdown",
      "source": [
        "**STEP5: Run the validations and print out the results (or persist them in an RDB, or save to a file...)**"
      ],
      "metadata": {
        "id": "FvTGe-kcrLHe"
      }
    },
    {
      "cell_type": "code",
      "source": [
        "df = pd.DataFrame(context.run())\n",
        "\n",
        "pd.set_option('display.max_rows', None)\n",
        "pd.set_option('display.max_columns', None)\n",
        "pd.set_option('display.width', 1000)\n",
        "pd.set_option('display.colheader_justify', 'center')\n",
        "pd.set_option('display.precision', 3)\n",
        "\n",
        "display(df[['node','nodeType','violationType','offendingValue','schemaElement','comment','msg']])"
      ],
      "metadata": {
        "id": "3-CMa6Zz3_Mu",
        "colab": {
          "base_uri": "https://localhost:8080/",
          "height": 1000
        },
        "outputId": "5faa998a-3c4c-4488-a1ae-aaf12649ef53"
      },
      "execution_count": null,
      "outputs": [
        {
          "output_type": "display_data",
          "data": {
            "text/plain": [
              "                          node                                nodeType                  violationType           offendingValue schemaElement                      comment                                  msg            \n",
              "0   {'unitPrice': 22.0, 'unitsInStock': 53, 'reord...  [query-based selection]  MinExclusiveConstraintComponent          4         productID                                                               R007_US_PROD_ID\n",
              "1   {'unitPrice': 21.35, 'reorderLevel': 0, 'units...  [query-based selection]  MinExclusiveConstraintComponent          5         productID                                                               R007_US_PROD_ID\n",
              "2   {'unitPrice': 25.0, 'unitsInStock': 120, 'reor...  [query-based selection]  MinExclusiveConstraintComponent          6         productID                                                               R007_US_PROD_ID\n",
              "3   {'unitPrice': 30.0, 'unitsInStock': 15, 'reord...  [query-based selection]  MinExclusiveConstraintComponent          7         productID                                                               R007_US_PROD_ID\n",
              "4   {'unitPrice': 40.0, 'unitsInStock': 6, 'reorde...  [query-based selection]  MinExclusiveConstraintComponent          8         productID                                                               R007_US_PROD_ID\n",
              "5   {'country': 'Spain', 'contactTitle': 'Accounti...                 Customer      MinCountConstraintComponent       None            places  cardinality (0) is outside the defined min-max...        R006_CUST_NO_ORDERS\n",
              "6   {'country': 'France', 'contactTitle': 'Owner',...                 Customer      MinCountConstraintComponent       None            places  cardinality (0) is outside the defined min-max...        R006_CUST_NO_ORDERS\n",
              "7   {'unitsInStock': 24, 'reorderLevel': 5, 'unitP...                  Product    ValueRangeConstraintComponent        6.0         unitPrice                                                              R004_PRICE_LIMIT\n",
              "8   {'unitPrice': 9.2, 'unitsInStock': 25, 'reorde...                  Product    ValueRangeConstraintComponent        9.2         unitPrice                                                              R004_PRICE_LIMIT\n",
              "9   {'unitsInStock': 61, 'reorderLevel': 25, 'unit...                  Product    ValueRangeConstraintComponent        9.0         unitPrice                                                              R004_PRICE_LIMIT\n",
              "10  {'unitPrice': 4.5, 'reorderLevel': 0, 'unitsIn...                  Product    ValueRangeConstraintComponent        4.5         unitPrice                                                              R004_PRICE_LIMIT\n",
              "11  {'unitsInStock': 112, 'reorderLevel': 20, 'uni...                  Product    ValueRangeConstraintComponent        2.5         unitPrice                                                              R004_PRICE_LIMIT\n",
              "12  {'unitPrice': 9.65, 'unitsInStock': 85, 'reord...                  Product    ValueRangeConstraintComponent       9.65         unitPrice                                                              R004_PRICE_LIMIT\n",
              "13  {'unitsInStock': 5, 'reorderLevel': 15, 'unitP...                  Product    ValueRangeConstraintComponent        9.5         unitPrice                                                              R004_PRICE_LIMIT\n",
              "14  {'unitsInStock': 36, 'reorderLevel': 0, 'unitP...                  Product    ValueRangeConstraintComponent        9.5         unitPrice                                                              R004_PRICE_LIMIT\n",
              "15  {'unitsInStock': 38, 'reorderLevel': 25, 'unit...                  Product    ValueRangeConstraintComponent        7.0         unitPrice                                                              R004_PRICE_LIMIT\n",
              "16  {'unitsInStock': 21, 'reorderLevel': 10, 'unit...                  Product    ValueRangeConstraintComponent       7.45         unitPrice                                                              R004_PRICE_LIMIT\n",
              "17  {'unitPrice': 7.75, 'reorderLevel': 25, 'units...                  Product    ValueRangeConstraintComponent       7.75         unitPrice                                                              R004_PRICE_LIMIT\n",
              "18  {'country': 'Brazil', 'supplierID': 10, 'addre...                 Supplier      MinCountConstraintComponent       None       supplied_by  incoming cardinality (1) is outside the define...  R002_LOW_PRODUCT_OFFERING\n",
              "19  {'country': 'Germany', 'supplierID': 13, 'addr...                 Supplier      MinCountConstraintComponent       None       supplied_by  incoming cardinality (1) is outside the define...  R002_LOW_PRODUCT_OFFERING\n",
              "20  {'country': '71300', 'supplierID': 27, 'addres...                 Supplier      MinCountConstraintComponent       None       supplied_by  incoming cardinality (1) is outside the define...  R002_LOW_PRODUCT_OFFERING\n",
              "21  {'country': '0512', 'supplierID': 20, 'address...                 Supplier       PatternConstraintComponent       0512           country  The value of the property does not match the s...       R001_INVALID_COUNTRY\n",
              "22  {'country': '2042', 'supplierID': 24, 'address...                 Supplier       PatternConstraintComponent       2042           country  The value of the property does not match the s...       R001_INVALID_COUNTRY\n",
              "23  {'country': '84100', 'supplierID': 26, 'addres...                 Supplier       PatternConstraintComponent      84100           country  The value of the property does not match the s...       R001_INVALID_COUNTRY\n",
              "24  {'country': '71300', 'supplierID': 27, 'addres...                 Supplier       PatternConstraintComponent      71300           country  The value of the property does not match the s...       R001_INVALID_COUNTRY"
            ],
            "text/html": [
              "\n",
              "  <div id=\"df-9de006cd-379f-448b-bde0-2312954003f0\">\n",
              "    <div class=\"colab-df-container\">\n",
              "      <div>\n",
              "<style scoped>\n",
              "    .dataframe tbody tr th:only-of-type {\n",
              "        vertical-align: middle;\n",
              "    }\n",
              "\n",
              "    .dataframe tbody tr th {\n",
              "        vertical-align: top;\n",
              "    }\n",
              "\n",
              "    .dataframe thead th {\n",
              "        text-align: right;\n",
              "    }\n",
              "</style>\n",
              "<table border=\"1\" class=\"dataframe\">\n",
              "  <thead>\n",
              "    <tr style=\"text-align: center;\">\n",
              "      <th></th>\n",
              "      <th>node</th>\n",
              "      <th>nodeType</th>\n",
              "      <th>violationType</th>\n",
              "      <th>offendingValue</th>\n",
              "      <th>schemaElement</th>\n",
              "      <th>comment</th>\n",
              "      <th>msg</th>\n",
              "    </tr>\n",
              "  </thead>\n",
              "  <tbody>\n",
              "    <tr>\n",
              "      <th>0</th>\n",
              "      <td>{'unitPrice': 22.0, 'unitsInStock': 53, 'reord...</td>\n",
              "      <td>[query-based selection]</td>\n",
              "      <td>MinExclusiveConstraintComponent</td>\n",
              "      <td>4</td>\n",
              "      <td>productID</td>\n",
              "      <td></td>\n",
              "      <td>R007_US_PROD_ID</td>\n",
              "    </tr>\n",
              "    <tr>\n",
              "      <th>1</th>\n",
              "      <td>{'unitPrice': 21.35, 'reorderLevel': 0, 'units...</td>\n",
              "      <td>[query-based selection]</td>\n",
              "      <td>MinExclusiveConstraintComponent</td>\n",
              "      <td>5</td>\n",
              "      <td>productID</td>\n",
              "      <td></td>\n",
              "      <td>R007_US_PROD_ID</td>\n",
              "    </tr>\n",
              "    <tr>\n",
              "      <th>2</th>\n",
              "      <td>{'unitPrice': 25.0, 'unitsInStock': 120, 'reor...</td>\n",
              "      <td>[query-based selection]</td>\n",
              "      <td>MinExclusiveConstraintComponent</td>\n",
              "      <td>6</td>\n",
              "      <td>productID</td>\n",
              "      <td></td>\n",
              "      <td>R007_US_PROD_ID</td>\n",
              "    </tr>\n",
              "    <tr>\n",
              "      <th>3</th>\n",
              "      <td>{'unitPrice': 30.0, 'unitsInStock': 15, 'reord...</td>\n",
              "      <td>[query-based selection]</td>\n",
              "      <td>MinExclusiveConstraintComponent</td>\n",
              "      <td>7</td>\n",
              "      <td>productID</td>\n",
              "      <td></td>\n",
              "      <td>R007_US_PROD_ID</td>\n",
              "    </tr>\n",
              "    <tr>\n",
              "      <th>4</th>\n",
              "      <td>{'unitPrice': 40.0, 'unitsInStock': 6, 'reorde...</td>\n",
              "      <td>[query-based selection]</td>\n",
              "      <td>MinExclusiveConstraintComponent</td>\n",
              "      <td>8</td>\n",
              "      <td>productID</td>\n",
              "      <td></td>\n",
              "      <td>R007_US_PROD_ID</td>\n",
              "    </tr>\n",
              "    <tr>\n",
              "      <th>5</th>\n",
              "      <td>{'country': 'Spain', 'contactTitle': 'Accounti...</td>\n",
              "      <td>Customer</td>\n",
              "      <td>MinCountConstraintComponent</td>\n",
              "      <td>None</td>\n",
              "      <td>places</td>\n",
              "      <td>cardinality (0) is outside the defined min-max...</td>\n",
              "      <td>R006_CUST_NO_ORDERS</td>\n",
              "    </tr>\n",
              "    <tr>\n",
              "      <th>6</th>\n",
              "      <td>{'country': 'France', 'contactTitle': 'Owner',...</td>\n",
              "      <td>Customer</td>\n",
              "      <td>MinCountConstraintComponent</td>\n",
              "      <td>None</td>\n",
              "      <td>places</td>\n",
              "      <td>cardinality (0) is outside the defined min-max...</td>\n",
              "      <td>R006_CUST_NO_ORDERS</td>\n",
              "    </tr>\n",
              "    <tr>\n",
              "      <th>7</th>\n",
              "      <td>{'unitsInStock': 24, 'reorderLevel': 5, 'unitP...</td>\n",
              "      <td>Product</td>\n",
              "      <td>ValueRangeConstraintComponent</td>\n",
              "      <td>6.0</td>\n",
              "      <td>unitPrice</td>\n",
              "      <td></td>\n",
              "      <td>R004_PRICE_LIMIT</td>\n",
              "    </tr>\n",
              "    <tr>\n",
              "      <th>8</th>\n",
              "      <td>{'unitPrice': 9.2, 'unitsInStock': 25, 'reorde...</td>\n",
              "      <td>Product</td>\n",
              "      <td>ValueRangeConstraintComponent</td>\n",
              "      <td>9.2</td>\n",
              "      <td>unitPrice</td>\n",
              "      <td></td>\n",
              "      <td>R004_PRICE_LIMIT</td>\n",
              "    </tr>\n",
              "    <tr>\n",
              "      <th>9</th>\n",
              "      <td>{'unitsInStock': 61, 'reorderLevel': 25, 'unit...</td>\n",
              "      <td>Product</td>\n",
              "      <td>ValueRangeConstraintComponent</td>\n",
              "      <td>9.0</td>\n",
              "      <td>unitPrice</td>\n",
              "      <td></td>\n",
              "      <td>R004_PRICE_LIMIT</td>\n",
              "    </tr>\n",
              "    <tr>\n",
              "      <th>10</th>\n",
              "      <td>{'unitPrice': 4.5, 'reorderLevel': 0, 'unitsIn...</td>\n",
              "      <td>Product</td>\n",
              "      <td>ValueRangeConstraintComponent</td>\n",
              "      <td>4.5</td>\n",
              "      <td>unitPrice</td>\n",
              "      <td></td>\n",
              "      <td>R004_PRICE_LIMIT</td>\n",
              "    </tr>\n",
              "    <tr>\n",
              "      <th>11</th>\n",
              "      <td>{'unitsInStock': 112, 'reorderLevel': 20, 'uni...</td>\n",
              "      <td>Product</td>\n",
              "      <td>ValueRangeConstraintComponent</td>\n",
              "      <td>2.5</td>\n",
              "      <td>unitPrice</td>\n",
              "      <td></td>\n",
              "      <td>R004_PRICE_LIMIT</td>\n",
              "    </tr>\n",
              "    <tr>\n",
              "      <th>12</th>\n",
              "      <td>{'unitPrice': 9.65, 'unitsInStock': 85, 'reord...</td>\n",
              "      <td>Product</td>\n",
              "      <td>ValueRangeConstraintComponent</td>\n",
              "      <td>9.65</td>\n",
              "      <td>unitPrice</td>\n",
              "      <td></td>\n",
              "      <td>R004_PRICE_LIMIT</td>\n",
              "    </tr>\n",
              "    <tr>\n",
              "      <th>13</th>\n",
              "      <td>{'unitsInStock': 5, 'reorderLevel': 15, 'unitP...</td>\n",
              "      <td>Product</td>\n",
              "      <td>ValueRangeConstraintComponent</td>\n",
              "      <td>9.5</td>\n",
              "      <td>unitPrice</td>\n",
              "      <td></td>\n",
              "      <td>R004_PRICE_LIMIT</td>\n",
              "    </tr>\n",
              "    <tr>\n",
              "      <th>14</th>\n",
              "      <td>{'unitsInStock': 36, 'reorderLevel': 0, 'unitP...</td>\n",
              "      <td>Product</td>\n",
              "      <td>ValueRangeConstraintComponent</td>\n",
              "      <td>9.5</td>\n",
              "      <td>unitPrice</td>\n",
              "      <td></td>\n",
              "      <td>R004_PRICE_LIMIT</td>\n",
              "    </tr>\n",
              "    <tr>\n",
              "      <th>15</th>\n",
              "      <td>{'unitsInStock': 38, 'reorderLevel': 25, 'unit...</td>\n",
              "      <td>Product</td>\n",
              "      <td>ValueRangeConstraintComponent</td>\n",
              "      <td>7.0</td>\n",
              "      <td>unitPrice</td>\n",
              "      <td></td>\n",
              "      <td>R004_PRICE_LIMIT</td>\n",
              "    </tr>\n",
              "    <tr>\n",
              "      <th>16</th>\n",
              "      <td>{'unitsInStock': 21, 'reorderLevel': 10, 'unit...</td>\n",
              "      <td>Product</td>\n",
              "      <td>ValueRangeConstraintComponent</td>\n",
              "      <td>7.45</td>\n",
              "      <td>unitPrice</td>\n",
              "      <td></td>\n",
              "      <td>R004_PRICE_LIMIT</td>\n",
              "    </tr>\n",
              "    <tr>\n",
              "      <th>17</th>\n",
              "      <td>{'unitPrice': 7.75, 'reorderLevel': 25, 'units...</td>\n",
              "      <td>Product</td>\n",
              "      <td>ValueRangeConstraintComponent</td>\n",
              "      <td>7.75</td>\n",
              "      <td>unitPrice</td>\n",
              "      <td></td>\n",
              "      <td>R004_PRICE_LIMIT</td>\n",
              "    </tr>\n",
              "    <tr>\n",
              "      <th>18</th>\n",
              "      <td>{'country': 'Brazil', 'supplierID': 10, 'addre...</td>\n",
              "      <td>Supplier</td>\n",
              "      <td>MinCountConstraintComponent</td>\n",
              "      <td>None</td>\n",
              "      <td>supplied_by</td>\n",
              "      <td>incoming cardinality (1) is outside the define...</td>\n",
              "      <td>R002_LOW_PRODUCT_OFFERING</td>\n",
              "    </tr>\n",
              "    <tr>\n",
              "      <th>19</th>\n",
              "      <td>{'country': 'Germany', 'supplierID': 13, 'addr...</td>\n",
              "      <td>Supplier</td>\n",
              "      <td>MinCountConstraintComponent</td>\n",
              "      <td>None</td>\n",
              "      <td>supplied_by</td>\n",
              "      <td>incoming cardinality (1) is outside the define...</td>\n",
              "      <td>R002_LOW_PRODUCT_OFFERING</td>\n",
              "    </tr>\n",
              "    <tr>\n",
              "      <th>20</th>\n",
              "      <td>{'country': '71300', 'supplierID': 27, 'addres...</td>\n",
              "      <td>Supplier</td>\n",
              "      <td>MinCountConstraintComponent</td>\n",
              "      <td>None</td>\n",
              "      <td>supplied_by</td>\n",
              "      <td>incoming cardinality (1) is outside the define...</td>\n",
              "      <td>R002_LOW_PRODUCT_OFFERING</td>\n",
              "    </tr>\n",
              "    <tr>\n",
              "      <th>21</th>\n",
              "      <td>{'country': '0512', 'supplierID': 20, 'address...</td>\n",
              "      <td>Supplier</td>\n",
              "      <td>PatternConstraintComponent</td>\n",
              "      <td>0512</td>\n",
              "      <td>country</td>\n",
              "      <td>The value of the property does not match the s...</td>\n",
              "      <td>R001_INVALID_COUNTRY</td>\n",
              "    </tr>\n",
              "    <tr>\n",
              "      <th>22</th>\n",
              "      <td>{'country': '2042', 'supplierID': 24, 'address...</td>\n",
              "      <td>Supplier</td>\n",
              "      <td>PatternConstraintComponent</td>\n",
              "      <td>2042</td>\n",
              "      <td>country</td>\n",
              "      <td>The value of the property does not match the s...</td>\n",
              "      <td>R001_INVALID_COUNTRY</td>\n",
              "    </tr>\n",
              "    <tr>\n",
              "      <th>23</th>\n",
              "      <td>{'country': '84100', 'supplierID': 26, 'addres...</td>\n",
              "      <td>Supplier</td>\n",
              "      <td>PatternConstraintComponent</td>\n",
              "      <td>84100</td>\n",
              "      <td>country</td>\n",
              "      <td>The value of the property does not match the s...</td>\n",
              "      <td>R001_INVALID_COUNTRY</td>\n",
              "    </tr>\n",
              "    <tr>\n",
              "      <th>24</th>\n",
              "      <td>{'country': '71300', 'supplierID': 27, 'addres...</td>\n",
              "      <td>Supplier</td>\n",
              "      <td>PatternConstraintComponent</td>\n",
              "      <td>71300</td>\n",
              "      <td>country</td>\n",
              "      <td>The value of the property does not match the s...</td>\n",
              "      <td>R001_INVALID_COUNTRY</td>\n",
              "    </tr>\n",
              "  </tbody>\n",
              "</table>\n",
              "</div>\n",
              "      <button class=\"colab-df-convert\" onclick=\"convertToInteractive('df-9de006cd-379f-448b-bde0-2312954003f0')\"\n",
              "              title=\"Convert this dataframe to an interactive table.\"\n",
              "              style=\"display:none;\">\n",
              "        \n",
              "  <svg xmlns=\"http://www.w3.org/2000/svg\" height=\"24px\"viewBox=\"0 0 24 24\"\n",
              "       width=\"24px\">\n",
              "    <path d=\"M0 0h24v24H0V0z\" fill=\"none\"/>\n",
              "    <path d=\"M18.56 5.44l.94 2.06.94-2.06 2.06-.94-2.06-.94-.94-2.06-.94 2.06-2.06.94zm-11 1L8.5 8.5l.94-2.06 2.06-.94-2.06-.94L8.5 2.5l-.94 2.06-2.06.94zm10 10l.94 2.06.94-2.06 2.06-.94-2.06-.94-.94-2.06-.94 2.06-2.06.94z\"/><path d=\"M17.41 7.96l-1.37-1.37c-.4-.4-.92-.59-1.43-.59-.52 0-1.04.2-1.43.59L10.3 9.45l-7.72 7.72c-.78.78-.78 2.05 0 2.83L4 21.41c.39.39.9.59 1.41.59.51 0 1.02-.2 1.41-.59l7.78-7.78 2.81-2.81c.8-.78.8-2.07 0-2.86zM5.41 20L4 18.59l7.72-7.72 1.47 1.35L5.41 20z\"/>\n",
              "  </svg>\n",
              "      </button>\n",
              "      \n",
              "  <style>\n",
              "    .colab-df-container {\n",
              "      display:flex;\n",
              "      flex-wrap:wrap;\n",
              "      gap: 12px;\n",
              "    }\n",
              "\n",
              "    .colab-df-convert {\n",
              "      background-color: #E8F0FE;\n",
              "      border: none;\n",
              "      border-radius: 50%;\n",
              "      cursor: pointer;\n",
              "      display: none;\n",
              "      fill: #1967D2;\n",
              "      height: 32px;\n",
              "      padding: 0 0 0 0;\n",
              "      width: 32px;\n",
              "    }\n",
              "\n",
              "    .colab-df-convert:hover {\n",
              "      background-color: #E2EBFA;\n",
              "      box-shadow: 0px 1px 2px rgba(60, 64, 67, 0.3), 0px 1px 3px 1px rgba(60, 64, 67, 0.15);\n",
              "      fill: #174EA6;\n",
              "    }\n",
              "\n",
              "    [theme=dark] .colab-df-convert {\n",
              "      background-color: #3B4455;\n",
              "      fill: #D2E3FC;\n",
              "    }\n",
              "\n",
              "    [theme=dark] .colab-df-convert:hover {\n",
              "      background-color: #434B5C;\n",
              "      box-shadow: 0px 1px 3px 1px rgba(0, 0, 0, 0.15);\n",
              "      filter: drop-shadow(0px 1px 2px rgba(0, 0, 0, 0.3));\n",
              "      fill: #FFFFFF;\n",
              "    }\n",
              "  </style>\n",
              "\n",
              "      <script>\n",
              "        const buttonEl =\n",
              "          document.querySelector('#df-9de006cd-379f-448b-bde0-2312954003f0 button.colab-df-convert');\n",
              "        buttonEl.style.display =\n",
              "          google.colab.kernel.accessAllowed ? 'block' : 'none';\n",
              "\n",
              "        async function convertToInteractive(key) {\n",
              "          const element = document.querySelector('#df-9de006cd-379f-448b-bde0-2312954003f0');\n",
              "          const dataTable =\n",
              "            await google.colab.kernel.invokeFunction('convertToInteractive',\n",
              "                                                     [key], {});\n",
              "          if (!dataTable) return;\n",
              "\n",
              "          const docLinkHtml = 'Like what you see? Visit the ' +\n",
              "            '<a target=\"_blank\" href=https://colab.research.google.com/notebooks/data_table.ipynb>data table notebook</a>'\n",
              "            + ' to learn more about interactive tables.';\n",
              "          element.innerHTML = '';\n",
              "          dataTable['output_type'] = 'display_data';\n",
              "          await google.colab.output.renderOutput(dataTable, element);\n",
              "          const docLink = document.createElement('div');\n",
              "          docLink.innerHTML = docLinkHtml;\n",
              "          element.appendChild(docLink);\n",
              "        }\n",
              "      </script>\n",
              "    </div>\n",
              "  </div>\n",
              "  "
            ]
          },
          "metadata": {}
        }
      ]
    },
    {
      "cell_type": "code",
      "source": [
        "import plotly\n",
        "pd.options.plotting.backend = \"plotly\"\n",
        "aggregate = df[[\"msg\",\"node\"]].groupby([\"msg\"]).count().rename(columns={'node':'violation_count'})\n",
        "fig = aggregate.plot.bar()\n",
        "fig.show()"
      ],
      "metadata": {
        "colab": {
          "base_uri": "https://localhost:8080/",
          "height": 542
        },
        "id": "L7qcqVNJzm1a",
        "outputId": "994aef0c-3d16-41be-8650-5b02e2ce7e85"
      },
      "execution_count": null,
      "outputs": [
        {
          "output_type": "display_data",
          "data": {
            "text/html": [
              "<html>\n",
              "<head><meta charset=\"utf-8\" /></head>\n",
              "<body>\n",
              "    <div>            <script src=\"https://cdnjs.cloudflare.com/ajax/libs/mathjax/2.7.5/MathJax.js?config=TeX-AMS-MML_SVG\"></script><script type=\"text/javascript\">if (window.MathJax) {MathJax.Hub.Config({SVG: {font: \"STIX-Web\"}});}</script>                <script type=\"text/javascript\">window.PlotlyConfig = {MathJaxConfig: 'local'};</script>\n",
              "        <script src=\"https://cdn.plot.ly/plotly-2.8.3.min.js\"></script>                <div id=\"57227112-1952-409f-9e01-9f3ba4dc580b\" class=\"plotly-graph-div\" style=\"height:525px; width:100%;\"></div>            <script type=\"text/javascript\">                                    window.PLOTLYENV=window.PLOTLYENV || {};                                    if (document.getElementById(\"57227112-1952-409f-9e01-9f3ba4dc580b\")) {                    Plotly.newPlot(                        \"57227112-1952-409f-9e01-9f3ba4dc580b\",                        [{\"alignmentgroup\":\"True\",\"hovertemplate\":\"variable=violation_count<br>msg=%{x}<br>value=%{y}<extra></extra>\",\"legendgroup\":\"violation_count\",\"marker\":{\"color\":\"#636efa\",\"pattern\":{\"shape\":\"\"}},\"name\":\"violation_count\",\"offsetgroup\":\"violation_count\",\"orientation\":\"v\",\"showlegend\":true,\"textposition\":\"auto\",\"x\":[\"R001_INVALID_COUNTRY\",\"R002_LOW_PRODUCT_OFFERING\",\"R004_PRICE_LIMIT\",\"R006_CUST_NO_ORDERS\",\"R007_US_PROD_ID\"],\"xaxis\":\"x\",\"y\":[4,3,11,2,5],\"yaxis\":\"y\",\"type\":\"bar\"}],                        {\"template\":{\"data\":{\"bar\":[{\"error_x\":{\"color\":\"#2a3f5f\"},\"error_y\":{\"color\":\"#2a3f5f\"},\"marker\":{\"line\":{\"color\":\"#E5ECF6\",\"width\":0.5},\"pattern\":{\"fillmode\":\"overlay\",\"size\":10,\"solidity\":0.2}},\"type\":\"bar\"}],\"barpolar\":[{\"marker\":{\"line\":{\"color\":\"#E5ECF6\",\"width\":0.5},\"pattern\":{\"fillmode\":\"overlay\",\"size\":10,\"solidity\":0.2}},\"type\":\"barpolar\"}],\"carpet\":[{\"aaxis\":{\"endlinecolor\":\"#2a3f5f\",\"gridcolor\":\"white\",\"linecolor\":\"white\",\"minorgridcolor\":\"white\",\"startlinecolor\":\"#2a3f5f\"},\"baxis\":{\"endlinecolor\":\"#2a3f5f\",\"gridcolor\":\"white\",\"linecolor\":\"white\",\"minorgridcolor\":\"white\",\"startlinecolor\":\"#2a3f5f\"},\"type\":\"carpet\"}],\"choropleth\":[{\"colorbar\":{\"outlinewidth\":0,\"ticks\":\"\"},\"type\":\"choropleth\"}],\"contour\":[{\"colorbar\":{\"outlinewidth\":0,\"ticks\":\"\"},\"colorscale\":[[0.0,\"#0d0887\"],[0.1111111111111111,\"#46039f\"],[0.2222222222222222,\"#7201a8\"],[0.3333333333333333,\"#9c179e\"],[0.4444444444444444,\"#bd3786\"],[0.5555555555555556,\"#d8576b\"],[0.6666666666666666,\"#ed7953\"],[0.7777777777777778,\"#fb9f3a\"],[0.8888888888888888,\"#fdca26\"],[1.0,\"#f0f921\"]],\"type\":\"contour\"}],\"contourcarpet\":[{\"colorbar\":{\"outlinewidth\":0,\"ticks\":\"\"},\"type\":\"contourcarpet\"}],\"heatmap\":[{\"colorbar\":{\"outlinewidth\":0,\"ticks\":\"\"},\"colorscale\":[[0.0,\"#0d0887\"],[0.1111111111111111,\"#46039f\"],[0.2222222222222222,\"#7201a8\"],[0.3333333333333333,\"#9c179e\"],[0.4444444444444444,\"#bd3786\"],[0.5555555555555556,\"#d8576b\"],[0.6666666666666666,\"#ed7953\"],[0.7777777777777778,\"#fb9f3a\"],[0.8888888888888888,\"#fdca26\"],[1.0,\"#f0f921\"]],\"type\":\"heatmap\"}],\"heatmapgl\":[{\"colorbar\":{\"outlinewidth\":0,\"ticks\":\"\"},\"colorscale\":[[0.0,\"#0d0887\"],[0.1111111111111111,\"#46039f\"],[0.2222222222222222,\"#7201a8\"],[0.3333333333333333,\"#9c179e\"],[0.4444444444444444,\"#bd3786\"],[0.5555555555555556,\"#d8576b\"],[0.6666666666666666,\"#ed7953\"],[0.7777777777777778,\"#fb9f3a\"],[0.8888888888888888,\"#fdca26\"],[1.0,\"#f0f921\"]],\"type\":\"heatmapgl\"}],\"histogram\":[{\"marker\":{\"pattern\":{\"fillmode\":\"overlay\",\"size\":10,\"solidity\":0.2}},\"type\":\"histogram\"}],\"histogram2d\":[{\"colorbar\":{\"outlinewidth\":0,\"ticks\":\"\"},\"colorscale\":[[0.0,\"#0d0887\"],[0.1111111111111111,\"#46039f\"],[0.2222222222222222,\"#7201a8\"],[0.3333333333333333,\"#9c179e\"],[0.4444444444444444,\"#bd3786\"],[0.5555555555555556,\"#d8576b\"],[0.6666666666666666,\"#ed7953\"],[0.7777777777777778,\"#fb9f3a\"],[0.8888888888888888,\"#fdca26\"],[1.0,\"#f0f921\"]],\"type\":\"histogram2d\"}],\"histogram2dcontour\":[{\"colorbar\":{\"outlinewidth\":0,\"ticks\":\"\"},\"colorscale\":[[0.0,\"#0d0887\"],[0.1111111111111111,\"#46039f\"],[0.2222222222222222,\"#7201a8\"],[0.3333333333333333,\"#9c179e\"],[0.4444444444444444,\"#bd3786\"],[0.5555555555555556,\"#d8576b\"],[0.6666666666666666,\"#ed7953\"],[0.7777777777777778,\"#fb9f3a\"],[0.8888888888888888,\"#fdca26\"],[1.0,\"#f0f921\"]],\"type\":\"histogram2dcontour\"}],\"mesh3d\":[{\"colorbar\":{\"outlinewidth\":0,\"ticks\":\"\"},\"type\":\"mesh3d\"}],\"parcoords\":[{\"line\":{\"colorbar\":{\"outlinewidth\":0,\"ticks\":\"\"}},\"type\":\"parcoords\"}],\"pie\":[{\"automargin\":true,\"type\":\"pie\"}],\"scatter\":[{\"marker\":{\"colorbar\":{\"outlinewidth\":0,\"ticks\":\"\"}},\"type\":\"scatter\"}],\"scatter3d\":[{\"line\":{\"colorbar\":{\"outlinewidth\":0,\"ticks\":\"\"}},\"marker\":{\"colorbar\":{\"outlinewidth\":0,\"ticks\":\"\"}},\"type\":\"scatter3d\"}],\"scattercarpet\":[{\"marker\":{\"colorbar\":{\"outlinewidth\":0,\"ticks\":\"\"}},\"type\":\"scattercarpet\"}],\"scattergeo\":[{\"marker\":{\"colorbar\":{\"outlinewidth\":0,\"ticks\":\"\"}},\"type\":\"scattergeo\"}],\"scattergl\":[{\"marker\":{\"colorbar\":{\"outlinewidth\":0,\"ticks\":\"\"}},\"type\":\"scattergl\"}],\"scattermapbox\":[{\"marker\":{\"colorbar\":{\"outlinewidth\":0,\"ticks\":\"\"}},\"type\":\"scattermapbox\"}],\"scatterpolar\":[{\"marker\":{\"colorbar\":{\"outlinewidth\":0,\"ticks\":\"\"}},\"type\":\"scatterpolar\"}],\"scatterpolargl\":[{\"marker\":{\"colorbar\":{\"outlinewidth\":0,\"ticks\":\"\"}},\"type\":\"scatterpolargl\"}],\"scatterternary\":[{\"marker\":{\"colorbar\":{\"outlinewidth\":0,\"ticks\":\"\"}},\"type\":\"scatterternary\"}],\"surface\":[{\"colorbar\":{\"outlinewidth\":0,\"ticks\":\"\"},\"colorscale\":[[0.0,\"#0d0887\"],[0.1111111111111111,\"#46039f\"],[0.2222222222222222,\"#7201a8\"],[0.3333333333333333,\"#9c179e\"],[0.4444444444444444,\"#bd3786\"],[0.5555555555555556,\"#d8576b\"],[0.6666666666666666,\"#ed7953\"],[0.7777777777777778,\"#fb9f3a\"],[0.8888888888888888,\"#fdca26\"],[1.0,\"#f0f921\"]],\"type\":\"surface\"}],\"table\":[{\"cells\":{\"fill\":{\"color\":\"#EBF0F8\"},\"line\":{\"color\":\"white\"}},\"header\":{\"fill\":{\"color\":\"#C8D4E3\"},\"line\":{\"color\":\"white\"}},\"type\":\"table\"}]},\"layout\":{\"annotationdefaults\":{\"arrowcolor\":\"#2a3f5f\",\"arrowhead\":0,\"arrowwidth\":1},\"autotypenumbers\":\"strict\",\"coloraxis\":{\"colorbar\":{\"outlinewidth\":0,\"ticks\":\"\"}},\"colorscale\":{\"diverging\":[[0,\"#8e0152\"],[0.1,\"#c51b7d\"],[0.2,\"#de77ae\"],[0.3,\"#f1b6da\"],[0.4,\"#fde0ef\"],[0.5,\"#f7f7f7\"],[0.6,\"#e6f5d0\"],[0.7,\"#b8e186\"],[0.8,\"#7fbc41\"],[0.9,\"#4d9221\"],[1,\"#276419\"]],\"sequential\":[[0.0,\"#0d0887\"],[0.1111111111111111,\"#46039f\"],[0.2222222222222222,\"#7201a8\"],[0.3333333333333333,\"#9c179e\"],[0.4444444444444444,\"#bd3786\"],[0.5555555555555556,\"#d8576b\"],[0.6666666666666666,\"#ed7953\"],[0.7777777777777778,\"#fb9f3a\"],[0.8888888888888888,\"#fdca26\"],[1.0,\"#f0f921\"]],\"sequentialminus\":[[0.0,\"#0d0887\"],[0.1111111111111111,\"#46039f\"],[0.2222222222222222,\"#7201a8\"],[0.3333333333333333,\"#9c179e\"],[0.4444444444444444,\"#bd3786\"],[0.5555555555555556,\"#d8576b\"],[0.6666666666666666,\"#ed7953\"],[0.7777777777777778,\"#fb9f3a\"],[0.8888888888888888,\"#fdca26\"],[1.0,\"#f0f921\"]]},\"colorway\":[\"#636efa\",\"#EF553B\",\"#00cc96\",\"#ab63fa\",\"#FFA15A\",\"#19d3f3\",\"#FF6692\",\"#B6E880\",\"#FF97FF\",\"#FECB52\"],\"font\":{\"color\":\"#2a3f5f\"},\"geo\":{\"bgcolor\":\"white\",\"lakecolor\":\"white\",\"landcolor\":\"#E5ECF6\",\"showlakes\":true,\"showland\":true,\"subunitcolor\":\"white\"},\"hoverlabel\":{\"align\":\"left\"},\"hovermode\":\"closest\",\"mapbox\":{\"style\":\"light\"},\"paper_bgcolor\":\"white\",\"plot_bgcolor\":\"#E5ECF6\",\"polar\":{\"angularaxis\":{\"gridcolor\":\"white\",\"linecolor\":\"white\",\"ticks\":\"\"},\"bgcolor\":\"#E5ECF6\",\"radialaxis\":{\"gridcolor\":\"white\",\"linecolor\":\"white\",\"ticks\":\"\"}},\"scene\":{\"xaxis\":{\"backgroundcolor\":\"#E5ECF6\",\"gridcolor\":\"white\",\"gridwidth\":2,\"linecolor\":\"white\",\"showbackground\":true,\"ticks\":\"\",\"zerolinecolor\":\"white\"},\"yaxis\":{\"backgroundcolor\":\"#E5ECF6\",\"gridcolor\":\"white\",\"gridwidth\":2,\"linecolor\":\"white\",\"showbackground\":true,\"ticks\":\"\",\"zerolinecolor\":\"white\"},\"zaxis\":{\"backgroundcolor\":\"#E5ECF6\",\"gridcolor\":\"white\",\"gridwidth\":2,\"linecolor\":\"white\",\"showbackground\":true,\"ticks\":\"\",\"zerolinecolor\":\"white\"}},\"shapedefaults\":{\"line\":{\"color\":\"#2a3f5f\"}},\"ternary\":{\"aaxis\":{\"gridcolor\":\"white\",\"linecolor\":\"white\",\"ticks\":\"\"},\"baxis\":{\"gridcolor\":\"white\",\"linecolor\":\"white\",\"ticks\":\"\"},\"bgcolor\":\"#E5ECF6\",\"caxis\":{\"gridcolor\":\"white\",\"linecolor\":\"white\",\"ticks\":\"\"}},\"title\":{\"x\":0.05},\"xaxis\":{\"automargin\":true,\"gridcolor\":\"white\",\"linecolor\":\"white\",\"ticks\":\"\",\"title\":{\"standoff\":15},\"zerolinecolor\":\"white\",\"zerolinewidth\":2},\"yaxis\":{\"automargin\":true,\"gridcolor\":\"white\",\"linecolor\":\"white\",\"ticks\":\"\",\"title\":{\"standoff\":15},\"zerolinecolor\":\"white\",\"zerolinewidth\":2}}},\"xaxis\":{\"anchor\":\"y\",\"domain\":[0.0,1.0],\"title\":{\"text\":\"msg\"}},\"yaxis\":{\"anchor\":\"x\",\"domain\":[0.0,1.0],\"title\":{\"text\":\"value\"}},\"legend\":{\"title\":{\"text\":\"variable\"},\"tracegroupgap\":0},\"margin\":{\"t\":60},\"barmode\":\"relative\"},                        {\"responsive\": true}                    ).then(function(){\n",
              "                            \n",
              "var gd = document.getElementById('57227112-1952-409f-9e01-9f3ba4dc580b');\n",
              "var x = new MutationObserver(function (mutations, observer) {{\n",
              "        var display = window.getComputedStyle(gd).display;\n",
              "        if (!display || display === 'none') {{\n",
              "            console.log([gd, 'removed!']);\n",
              "            Plotly.purge(gd);\n",
              "            observer.disconnect();\n",
              "        }}\n",
              "}});\n",
              "\n",
              "// Listen for the removal of the full notebook cells\n",
              "var notebookContainer = gd.closest('#notebook-container');\n",
              "if (notebookContainer) {{\n",
              "    x.observe(notebookContainer, {childList: true});\n",
              "}}\n",
              "\n",
              "// Listen for the clearing of the current output cell\n",
              "var outputEl = gd.closest('.output');\n",
              "if (outputEl) {{\n",
              "    x.observe(outputEl, {childList: true});\n",
              "}}\n",
              "\n",
              "                        })                };                            </script>        </div>\n",
              "</body>\n",
              "</html>"
            ]
          },
          "metadata": {}
        }
      ]
    }
  ]
}